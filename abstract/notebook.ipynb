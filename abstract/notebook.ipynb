{
 "cells": [
  {
   "cell_type": "markdown",
   "id": "834c4613-aebb-4e4b-93f1-a9bb04bc5364",
   "metadata": {},
   "source": [
    "## Assess the significance"
   ]
  },
  {
   "cell_type": "code",
   "execution_count": 22,
   "id": "a0400fc0-377d-4aaa-8a27-35d52146be52",
   "metadata": {},
   "outputs": [],
   "source": [
    "import sys\n",
    "import pandas as pd\n",
    "import numpy as np\n",
    "from scipy.stats import norm"
   ]
  },
  {
   "cell_type": "code",
   "execution_count": 3,
   "id": "7ef44931-cbf2-4ad5-a251-163a49cbefdd",
   "metadata": {},
   "outputs": [],
   "source": [
    "def get_SNP_scores(filename, bind_scaler=0,dirsupt_scaler_pos=0,dirsupt_scaler_neg=0):\n",
    "    bind_scores=list()\n",
    "    disrupt_scores=list()\n",
    "    svm_df=pd.read_csv(filename,sep=\"\\t\",header=0)\n",
    "    bindref_column=svm_df['binding_ref'].tolist()\n",
    "    bindalt_column=svm_df['binding_alt'].tolist()\n",
    "    delta_column=svm_df['deltaSVM_score'].tolist()\n",
    "    n=int(len(delta_column))\n",
    "    \n",
    "    for i in range(0,n):\n",
    "        a=bindref_column[i]\n",
    "        b=bindalt_column[i]\n",
    "        bind_score = max(a,b)\n",
    "        if bind_score>=0:\n",
    "            bind_scores.append(bind_score)\n",
    "            disrupt_score=delta_column[i]\n",
    "            disrupt_scores.append(disrupt_score)\n",
    "    if bind_scaler==0:\n",
    "        bind_scaler=max(bind_scores)\n",
    "        dirsupt_scaler_pos=max([i for i in disrupt_scores if i >= 0] or None)\n",
    "        dirsupt_scaler_neg=min([i for i in disrupt_scores if i < 0] or None)\n",
    "    scaled_bind_scores=list(np.divide(np.array(bind_scores),bind_scaler))\n",
    "    scaled_disrupt_scores=list()\n",
    "    for score in disrupt_scores:\n",
    "        if score>=0:\n",
    "            newscore=score/dirsupt_scaler_pos\n",
    "        else:\n",
    "            newscore=-score/dirsupt_scaler_neg\n",
    "        scaled_disrupt_scores.append(newscore)\n",
    "    scaled_mod_scores=list(np.multiply(scaled_bind_scores,scaled_disrupt_scores))\n",
    "    return bind_scaler,dirsupt_scaler_pos,dirsupt_scaler_neg,scaled_bind_scores,scaled_disrupt_scores,scaled_mod_scores"
   ]
  },
  {
   "cell_type": "code",
   "execution_count": 4,
   "id": "1e8d7720-cb6e-4c9a-a12f-19a37299b5e9",
   "metadata": {},
   "outputs": [],
   "source": [
    "target_filename=\"GATA1_t.scores\"\n",
    "background_filename=\"GATA1_bg.scores\""
   ]
  },
  {
   "cell_type": "code",
   "execution_count": 5,
   "id": "817700f8-f0e4-4750-afb6-b93ab528bf48",
   "metadata": {},
   "outputs": [],
   "source": [
    "bind_scaler,dirsupt_scaler_pos,dirsupt_scaler_neg,scaled_bind_scores_bg,scaled_disrupt_scores_bg,scaled_mod_scores_bg \\\n",
    "    = get_SNP_scores(background_filename)"
   ]
  },
  {
   "cell_type": "code",
   "execution_count": 6,
   "id": "89deca87-962e-4df0-8c44-c9248c9d88a6",
   "metadata": {
    "tags": []
   },
   "outputs": [],
   "source": [
    "bind_scaler,dirsupt_scaler_pos,dirsupt_scaler_neg,scaled_bind_scores_target,scaled_disrupt_scores_target,scaled_mod_scores_target \\\n",
    "    = get_SNP_scores(target_filename,bind_scaler,dirsupt_scaler_pos,dirsupt_scaler_neg)"
   ]
  },
  {
   "cell_type": "code",
   "execution_count": null,
   "id": "ab0a39c5-becd-48bc-9b70-7e01de5b6e9f",
   "metadata": {},
   "outputs": [],
   "source": [
    "target_data=scaled_mod_scores_target\n",
    "bg_data=scaled_mod_scores_bg\n",
    "\n",
    "pop_mean=np.mean(bg_data)\n",
    "pop_var=np.var(bg_data)\n",
    "test_mean=pop_mean\n",
    "\n",
    "test_var=pop_var/(len(target_data))\n",
    "\n",
    "\n",
    "t=(np.mean(target_data)-test_mean)/((test_var)**(0.5))\n",
    "report_pvalue_left=norm.cdf(t)\n",
    "report_pvalue_right=1-report_pvalue_left\n",
    "#print(str(test_mean))\n",
    "#print(str(test_var)) \n",
    "abs_target_data=np.abs(target_data)\n",
    "abs_bg_data=np.abs(bg_data)\n",
    "abs_pop_mean=np.mean(abs_bg_data)\n",
    "abs_pop_var=np.var(abs_bg_data)\n",
    "abs_test_mean=abs_pop_mean\n",
    "abs_test_var=abs_pop_var/(len(abs_target_data))\n",
    "if abs_test_var==0:\n",
    "    abs_test_var=1E-20\n",
    "abs_t=(np.mean(abs_target_data)-abs_test_mean)/((abs_test_var)**(0.5))\n",
    "report_pvalue_abs=1-norm.cdf(abs_t)\n",
    "print(\"Disruption p-value: \"+str(report_pvalue_left))\n",
    "print(\"Enhancement p-value: \"+str(report_pvalue_right))\n",
    "print(\"Dual p-value: \"+str(report_pvalue_abs))"
   ]
  }
 ],
 "metadata": {
  "kernelspec": {
   "display_name": "Python 3",
   "language": "python",
   "name": "python3"
  },
  "language_info": {
   "codemirror_mode": {
    "name": "ipython",
    "version": 3
   },
   "file_extension": ".py",
   "mimetype": "text/x-python",
   "name": "python",
   "nbconvert_exporter": "python",
   "pygments_lexer": "ipython3",
   "version": "3.9.0"
  }
 },
 "nbformat": 4,
 "nbformat_minor": 5
}
